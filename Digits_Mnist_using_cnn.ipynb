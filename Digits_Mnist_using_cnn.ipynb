{
  "cells": [
    {
      "cell_type": "code",
      "execution_count": null,
      "metadata": {
        "colab": {
          "base_uri": "https://localhost:8080/"
        },
        "id": "9M4cSDuggmp1",
        "outputId": "e226d292-cc45-4c32-db6f-fede269db986"
      },
      "outputs": [
        {
          "output_type": "stream",
          "name": "stdout",
          "text": [
            "Requirement already satisfied: keras-tuner in /usr/local/lib/python3.10/dist-packages (1.4.7)\n",
            "Requirement already satisfied: keras in /usr/local/lib/python3.10/dist-packages (from keras-tuner) (2.15.0)\n",
            "Requirement already satisfied: packaging in /usr/local/lib/python3.10/dist-packages (from keras-tuner) (24.0)\n",
            "Requirement already satisfied: requests in /usr/local/lib/python3.10/dist-packages (from keras-tuner) (2.31.0)\n",
            "Requirement already satisfied: kt-legacy in /usr/local/lib/python3.10/dist-packages (from keras-tuner) (1.0.5)\n",
            "Requirement already satisfied: charset-normalizer<4,>=2 in /usr/local/lib/python3.10/dist-packages (from requests->keras-tuner) (3.3.2)\n",
            "Requirement already satisfied: idna<4,>=2.5 in /usr/local/lib/python3.10/dist-packages (from requests->keras-tuner) (3.7)\n",
            "Requirement already satisfied: urllib3<3,>=1.21.1 in /usr/local/lib/python3.10/dist-packages (from requests->keras-tuner) (2.0.7)\n",
            "Requirement already satisfied: certifi>=2017.4.17 in /usr/local/lib/python3.10/dist-packages (from requests->keras-tuner) (2024.2.2)\n"
          ]
        }
      ],
      "source": [
        "!pip install keras-tuner"
      ]
    },
    {
      "cell_type": "code",
      "execution_count": null,
      "metadata": {
        "id": "kyYdcbL7guTT"
      },
      "outputs": [],
      "source": [
        "import tensorflow as tf\n",
        "from tensorflow import keras\n",
        "import numpy as np"
      ]
    },
    {
      "cell_type": "code",
      "execution_count": null,
      "metadata": {
        "id": "Op6vqbFUgv4T"
      },
      "outputs": [],
      "source": [
        "digit_dataset = keras.datasets.mnist"
      ]
    },
    {
      "cell_type": "code",
      "execution_count": null,
      "metadata": {
        "id": "-GKfrRYwg3rz"
      },
      "outputs": [],
      "source": [
        "(train_img,train_labels),(test_img,test_labels) = digit_dataset.load_data()"
      ]
    },
    {
      "cell_type": "code",
      "execution_count": null,
      "metadata": {
        "id": "OzvmlLZ3hRg0"
      },
      "outputs": [],
      "source": [
        "train_img = train_img/255.0\n",
        "test_img = test_img/255.0"
      ]
    },
    {
      "cell_type": "code",
      "execution_count": null,
      "metadata": {
        "colab": {
          "base_uri": "https://localhost:8080/"
        },
        "id": "33VMcsMGhTlr",
        "outputId": "c1e39faf-10c9-4da8-a538-e2b7a6b1698d"
      },
      "outputs": [
        {
          "output_type": "execute_result",
          "data": {
            "text/plain": [
              "(28, 28)"
            ]
          },
          "metadata": {},
          "execution_count": 28
        }
      ],
      "source": [
        "train_img[0].shape"
      ]
    },
    {
      "cell_type": "code",
      "execution_count": null,
      "metadata": {
        "id": "QbYLHz_5hU8D"
      },
      "outputs": [],
      "source": [
        "train_img = train_img.reshape(len(train_img),28,28,1)"
      ]
    },
    {
      "cell_type": "code",
      "execution_count": null,
      "metadata": {
        "id": "dKfMhhSQhWx6"
      },
      "outputs": [],
      "source": [
        "test_img = test_img.reshape(len(test_img),28,28,1)"
      ]
    },
    {
      "cell_type": "code",
      "execution_count": null,
      "metadata": {
        "id": "v6MkmiQShYC8"
      },
      "outputs": [],
      "source": [
        "def build_model(hp):\n",
        "  model = keras.Sequential([\n",
        "      keras.layers.Conv2D(\n",
        "          filters = hp.Int('Conv_1_filter',min_value = 32,max_value=128,step=16),\n",
        "          kernel_size=hp.Choice('Conv_1_kernel',values=[3,5]),\n",
        "          activation='relu',input_shape=(28,28,1)\n",
        "      ),\n",
        "      keras.layers.Conv2D(\n",
        "          filters = hp.Int('Conv_2_filter',min_value = 32,max_value=64,step=16),\n",
        "          kernel_size=hp.Choice('Conv_2_kernel',values=[3,5]),\n",
        "          activation='relu'\n",
        "      ),\n",
        "      keras.layers.Flatten(),\n",
        "      keras.layers.Dense(\n",
        "          units = hp.Int('dense_1_units',min_value = 32,max_value=128,step=16),\n",
        "          activation='relu'\n",
        "      ),\n",
        "      keras.layers.Dense(10,activation='softmax')\n",
        "  ])\n",
        "  model.compile(optimizer=keras.optimizers.Adam(hp.Choice('learning_rate',values=[1e-2,1e-3])),loss='sparse_categorical_crossentropy',metrics=['accuracy'])\n",
        "  return model"
      ]
    },
    {
      "cell_type": "code",
      "execution_count": null,
      "metadata": {
        "id": "rwhLIf3FhaPD"
      },
      "outputs": [],
      "source": [
        "from kerastuner import RandomSearch\n",
        "from kerastuner.engine.hyperparameters import HyperParameters"
      ]
    },
    {
      "cell_type": "code",
      "execution_count": null,
      "metadata": {
        "id": "RIshbuTShb1j",
        "colab": {
          "base_uri": "https://localhost:8080/"
        },
        "outputId": "6a376de3-70b8-4e22-db21-513337ee9550"
      },
      "outputs": [
        {
          "output_type": "stream",
          "name": "stdout",
          "text": [
            "Reloading Tuner from output/MnistDigit/tuner0.json\n"
          ]
        }
      ],
      "source": [
        "tuner_search = RandomSearch(build_model,objective='val_accuracy',max_trials=5,directory='output',project_name='MnistDigit')"
      ]
    },
    {
      "cell_type": "code",
      "execution_count": null,
      "metadata": {
        "id": "odlbEmFDhhHk"
      },
      "outputs": [],
      "source": [
        "tuner_search.search(train_img,train_labels,epochs=3,validation_split=0.1)"
      ]
    },
    {
      "cell_type": "code",
      "execution_count": null,
      "metadata": {
        "id": "b7aS8iwthjGs"
      },
      "outputs": [],
      "source": [
        "model = tuner_search.get_best_models(num_models=1)[0]"
      ]
    },
    {
      "cell_type": "code",
      "execution_count": null,
      "metadata": {
        "id": "UiAzaMjlhnQ1",
        "colab": {
          "base_uri": "https://localhost:8080/"
        },
        "outputId": "c87e9865-43b3-4b49-d179-e5e398533b27"
      },
      "outputs": [
        {
          "output_type": "stream",
          "name": "stdout",
          "text": [
            "Model: \"sequential\"\n",
            "_________________________________________________________________\n",
            " Layer (type)                Output Shape              Param #   \n",
            "=================================================================\n",
            " conv2d (Conv2D)             (None, 26, 26, 64)        640       \n",
            "                                                                 \n",
            " conv2d_1 (Conv2D)           (None, 22, 22, 32)        51232     \n",
            "                                                                 \n",
            " flatten (Flatten)           (None, 15488)             0         \n",
            "                                                                 \n",
            " dense (Dense)               (None, 112)               1734768   \n",
            "                                                                 \n",
            " dense_1 (Dense)             (None, 10)                1130      \n",
            "                                                                 \n",
            "=================================================================\n",
            "Total params: 1787770 (6.82 MB)\n",
            "Trainable params: 1787770 (6.82 MB)\n",
            "Non-trainable params: 0 (0.00 Byte)\n",
            "_________________________________________________________________\n"
          ]
        }
      ],
      "source": [
        "model.summary()"
      ]
    },
    {
      "cell_type": "code",
      "execution_count": null,
      "metadata": {
        "id": "jzvI2eIwhpO6",
        "colab": {
          "base_uri": "https://localhost:8080/"
        },
        "outputId": "71d36d91-f166-4efa-b679-1c7c63f31d7a"
      },
      "outputs": [
        {
          "output_type": "stream",
          "name": "stdout",
          "text": [
            "Epoch 1/5\n",
            "6000/6000 [==============================] - 24s 4ms/step - loss: 0.0330 - accuracy: 0.9896 - val_loss: 0.0394 - val_accuracy: 0.9893\n",
            "Epoch 2/5\n",
            "6000/6000 [==============================] - 22s 4ms/step - loss: 0.0193 - accuracy: 0.9940 - val_loss: 0.0377 - val_accuracy: 0.9908\n",
            "Epoch 3/5\n",
            "6000/6000 [==============================] - 23s 4ms/step - loss: 0.0125 - accuracy: 0.9961 - val_loss: 0.0480 - val_accuracy: 0.9904\n",
            "Epoch 4/5\n",
            "6000/6000 [==============================] - 23s 4ms/step - loss: 0.0101 - accuracy: 0.9972 - val_loss: 0.0655 - val_accuracy: 0.9864\n",
            "Epoch 5/5\n",
            "6000/6000 [==============================] - 24s 4ms/step - loss: 0.0109 - accuracy: 0.9969 - val_loss: 0.0741 - val_accuracy: 0.9881\n"
          ]
        },
        {
          "output_type": "execute_result",
          "data": {
            "text/plain": [
              "<keras.src.callbacks.History at 0x7bb567b85630>"
            ]
          },
          "metadata": {},
          "execution_count": 15
        }
      ],
      "source": [
        "model.fit(train_img,train_labels,batch_size = 10,\n",
        "          epochs = 5,\n",
        "          verbose = 1,\n",
        "          validation_data =(test_img, test_labels),)"
      ]
    },
    {
      "cell_type": "code",
      "execution_count": null,
      "metadata": {
        "id": "wOwRDc9Uhq9S",
        "colab": {
          "base_uri": "https://localhost:8080/"
        },
        "outputId": "71b7753e-b17f-4dcc-952a-7d25ce4ba4ff"
      },
      "outputs": [
        {
          "output_type": "stream",
          "name": "stdout",
          "text": [
            "313/313 [==============================] - 1s 3ms/step - loss: 0.0741 - accuracy: 0.9881\n",
            "Accuracy on testing data is  98.81 %\n"
          ]
        }
      ],
      "source": [
        "test_loss,test_acc = model.evaluate(test_img,test_labels)\n",
        "print(\"Accuracy on testing data is \",round(test_acc*100,2),\"%\")"
      ]
    },
    {
      "cell_type": "code",
      "execution_count": null,
      "metadata": {
        "id": "nZZMr3gJhs2D",
        "colab": {
          "base_uri": "https://localhost:8080/"
        },
        "outputId": "d0fe1b3e-d12c-470c-f470-851a6bb28490"
      },
      "outputs": [
        {
          "output_type": "stream",
          "name": "stdout",
          "text": [
            "313/313 [==============================] - 1s 2ms/step\n"
          ]
        }
      ],
      "source": [
        "predictions = model.predict(test_img)"
      ]
    },
    {
      "cell_type": "code",
      "execution_count": null,
      "metadata": {
        "id": "tIJsjAjThwB6"
      },
      "outputs": [],
      "source": [
        "predicted_labels = predictions.argmax(axis=1)"
      ]
    },
    {
      "cell_type": "code",
      "execution_count": null,
      "metadata": {
        "id": "kqsNpva7hwRN",
        "colab": {
          "base_uri": "https://localhost:8080/"
        },
        "outputId": "163606c1-2fb0-4569-d6cd-75a6ddfa4b3b"
      },
      "outputs": [
        {
          "metadata": {
            "tags": null
          },
          "name": "stdout",
          "output_type": "stream",
          "text": [
            "Actual Label : 7,Predicted Label: 7\n",
            "Actual Label : 2,Predicted Label: 2\n",
            "Actual Label : 1,Predicted Label: 1\n",
            "Actual Label : 0,Predicted Label: 0\n",
            "Actual Label : 4,Predicted Label: 4\n"
          ]
        }
      ],
      "source": [
        "for i in range(0,5):\n",
        "  print(f\"Actual Label : {test_labels[i]},Predicted Label: {predicted_labels[i]}\")"
      ]
    },
    {
      "cell_type": "code",
      "execution_count": null,
      "metadata": {
        "id": "Xih4sWyEhx6r"
      },
      "outputs": [],
      "source": [
        "import matplotlib.pyplot as plt"
      ]
    },
    {
      "cell_type": "code",
      "execution_count": null,
      "metadata": {
        "id": "sRz9ZmZihz20"
      },
      "outputs": [],
      "source": [
        "def plot_image(i,predictions_array,true_label,img):\n",
        "  predictions_array,true_label,img = predictions_array[i],true_label[i],img[i].reshape(28,28)\n",
        "  plt.grid(False)\n",
        "  plt.xticks([])\n",
        "  plt.yticks([])\n",
        "  plt.imshow(img,cmap=plt.cm.binary)\n",
        "  predicted_label = predictions_array.argmax()\n",
        "  color = 'blue' if predicted_label == true_label else 'red'\n",
        "  plt.xlabel(f\"Predicted: {predicted_label}({100*tf.reduce_max(predictions_array):2f}%),Actual: {true_label}\",color=color)"
      ]
    },
    {
      "cell_type": "code",
      "execution_count": null,
      "metadata": {
        "id": "VIn_VkIXh1OP",
        "colab": {
          "base_uri": "https://localhost:8080/",
          "height": 1000
        },
        "outputId": "312bc587-e8bd-4cc0-deae-6c82dc9e2143"
      },
      "outputs": [
        {
          "output_type": "display_data",
          "data": {
            "text/plain": [
              "<Figure size 1500x1500 with 15 Axes>"
            ],
            "image/png": "[encoded data removed]"
          },
          "metadata": {}
        }
      ],
      "source": [
        "num_rows=5\n",
        "num_cols=3\n",
        "num_images = num_rows * num_cols\n",
        "plt.figure(figsize=(15,15))\n",
        "for i in range(num_images):\n",
        "  plt.subplot(num_rows,2*num_cols,2*i+1)\n",
        "  plot_image(i,predictions,test_labels,test_img)\n",
        "plt.show()"
      ]
    },
    {
      "cell_type": "code",
      "execution_count": null,
      "metadata": {
        "id": "VW6fkTaZh3WM"
      },
      "outputs": [],
      "source": []
    }
  ],
  "metadata": {
    "colab": {
      "provenance": []
    },
    "kernelspec": {
      "display_name": "Python 3",
      "name": "python3"
    },
    "language_info": {
      "name": "python"
    }
  },
  "nbformat": 4,
  "nbformat_minor": 0
}